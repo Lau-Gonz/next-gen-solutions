{
 "cells": [
  {
   "cell_type": "markdown",
   "metadata": {},
   "source": [
    "# **Next Gen Solutions**"
   ]
  },
  {
   "cell_type": "markdown",
   "metadata": {},
   "source": [
    "## **Limpiado y Preparación de Base de Datos**"
   ]
  },
  {
   "cell_type": "code",
   "execution_count": 48,
   "metadata": {},
   "outputs": [],
   "source": [
    "import pandas as pd\n",
    "import unicodedata\n",
    "\n",
    "def remover_tildes(texto):\n",
    "    return ''.join((c for c in unicodedata.normalize('NFD', texto) if unicodedata.category(c) != 'Mn'))"
   ]
  },
  {
   "cell_type": "code",
   "execution_count": 49,
   "metadata": {},
   "outputs": [],
   "source": [
    "energeticos = pd.read_excel('data\\Asignaturas Ingeniería de Sistemas Energéticos.xlsx', header = 1)\n",
    "energeticos = energeticos.loc[:, ~energeticos.columns.str.contains('Unnamed')]\n",
    "energeticos = energeticos.drop(columns=['Cod_materia'])\n",
    "energeticos = energeticos.applymap(lambda x: remover_tildes(str(x)) if isinstance(x, str) else x)\n",
    "energeticos.columns = [remover_tildes(columna) for columna in energeticos.columns]\n",
    "energeticos.applymap(lambda x: remover_tildes(str(x)) if isinstance(x, str) else x)\n",
    "energeticos.to_csv('data_limpia\\energeticos.csv', index=False)\n"
   ]
  },
  {
   "cell_type": "code",
   "execution_count": 50,
   "metadata": {},
   "outputs": [],
   "source": [
    "electronica = pd.read_excel('data\\Asignaturas Ingeniería Electrónica.xlsx', header = 2)\n",
    "electronica = electronica.loc[:, ~electronica.columns.str.contains('Unnamed')]\n",
    "electronica = electronica.drop(columns=['Cod_materia'])\n",
    "electronica.columns = [remover_tildes(columna) for columna in electronica.columns]\n",
    "electronica.applymap(lambda x: remover_tildes(str(x)) if isinstance(x, str) else x)\n",
    "electronica.to_csv('data_limpia\\electronica.csv', index=False)"
   ]
  },
  {
   "cell_type": "code",
   "execution_count": 51,
   "metadata": {},
   "outputs": [],
   "source": [
    "industrial = pd.read_excel('data\\Asignaturas Ingeniería Industrial.xlsx', header = 1)\n",
    "industrial = industrial.loc[:, ~industrial.columns.str.contains('Unnamed')]\n",
    "industrial.columns = [remover_tildes(columna) for columna in industrial.columns]\n",
    "industrial.applymap(lambda x: remover_tildes(str(x)) if isinstance(x, str) else x)\n",
    "industrial.to_csv('data_limpia\\industrial.csv', index=False)"
   ]
  },
  {
   "cell_type": "code",
   "execution_count": 52,
   "metadata": {},
   "outputs": [],
   "source": [
    "ma02 = pd.read_excel('data\\Asignaturas Matemáticas Aplicadas y Ciencias de la Computación MA02.xlsx', header = 1)\n",
    "ma02 = ma02.loc[:, ~ma02.columns.str.contains('Unnamed')]\n",
    "ma02 = ma02.drop(columns=['Cod_materia'])\n",
    "ma02.columns = [remover_tildes(columna) for columna in ma02.columns]\n",
    "ma02.applymap(lambda x: remover_tildes(str(x)) if isinstance(x, str) else x)\n",
    "ma02.to_csv('data_limpia\\ma02.csv', index=False)"
   ]
  },
  {
   "cell_type": "code",
   "execution_count": 53,
   "metadata": {},
   "outputs": [],
   "source": [
    "ma03 = pd.read_excel('data\\Asignaturas Matemáticas Aplicadas y Ciencias de la Computación MA03.xlsx', header = 1)\n",
    "ma03.head()\n",
    "ma03 = ma03.loc[:, ~ma03.columns.str.contains('Unnamed')]\n",
    "ma03 = ma03.drop(columns=['Cod_materia'])\n",
    "ma03.head()\n",
    "ma03.columns = [remover_tildes(columna) for columna in ma03.columns]\n",
    "ma03.applymap(lambda x: remover_tildes(str(x)) if isinstance(x, str) else x)\n",
    "ma03.to_csv('data_limpia\\ma03.csv', index=False)"
   ]
  },
  {
   "cell_type": "markdown",
   "metadata": {},
   "source": [
    "## **Extracción de Datos para Tablas SQL**"
   ]
  },
  {
   "cell_type": "code",
   "execution_count": null,
   "metadata": {},
   "outputs": [],
   "source": []
  }
 ],
 "metadata": {
  "kernelspec": {
   "display_name": "Python 3",
   "language": "python",
   "name": "python3"
  },
  "language_info": {
   "codemirror_mode": {
    "name": "ipython",
    "version": 3
   },
   "file_extension": ".py",
   "mimetype": "text/x-python",
   "name": "python",
   "nbconvert_exporter": "python",
   "pygments_lexer": "ipython3",
   "version": "3.11.1"
  }
 },
 "nbformat": 4,
 "nbformat_minor": 2
}
